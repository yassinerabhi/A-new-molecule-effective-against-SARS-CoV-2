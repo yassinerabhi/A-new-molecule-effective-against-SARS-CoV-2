{
  "nbformat": 4,
  "nbformat_minor": 0,
  "metadata": {
    "kernelspec": {
      "display_name": "Python 3",
      "language": "python",
      "name": "python3"
    },
    "language_info": {
      "codemirror_mode": {
        "name": "ipython",
        "version": 3
      },
      "file_extension": ".py",
      "mimetype": "text/x-python",
      "name": "python",
      "nbconvert_exporter": "python",
      "pygments_lexer": "ipython3",
      "version": "3.6.10"
    },
    "colab": {
      "name": "Initial Network.ipynb",
      "provenance": [],
      "collapsed_sections": []
    }
  },
  "cells": [
    {
      "cell_type": "markdown",
      "metadata": {
        "id": "jjL3DyC8V1qT"
      },
      "source": [
        "# Description\n",
        "\n",
        "This script is used to train our model on the known SMILES universe to learn how to generate new small molecules very accurately. We then use this initial network to generate our generation 0 (gen0) candidate molecules."
      ]
    },
    {
      "cell_type": "code",
      "metadata": {
        "id": "_oTbZ3voYjoG"
      },
      "source": [
        "!sudo apt install python-rdkit\n",
        "!pip install numpy\n",
        "!wget -c https://repo.continuum.io/miniconda/Miniconda3-latest-Linux-x86_64.sh\n",
        "!chmod +x Miniconda3-latest-Linux-x86_64.sh\n",
        "!time bash ./Miniconda3-latest-Linux-x86_64.sh -b -f -p /usr/local\n",
        "!time conda install -q -y -c conda-forge rdkit\n",
        "!pip install bunch\n",
        "%matplotlib inline\n",
        "import matplotlib.pyplot as plt\n",
        "import sys\n",
        "import os\n",
        "sys.path.append('/usr/local/lib/python3.7/site-packages/')"
      ],
      "execution_count": null,
      "outputs": []
    },
    {
      "cell_type": "markdown",
      "metadata": {
        "id": "B8qahrrRV1qp"
      },
      "source": [
        "## Train the Network"
      ]
    },
    {
      "cell_type": "code",
      "metadata": {
        "id": "GMI69p1SV1qs"
      },
      "source": [
        "import tensorflow\n",
        "tensorflow.test.is_gpu_available()"
      ],
      "execution_count": null,
      "outputs": []
    },
    {
      "cell_type": "code",
      "metadata": {
        "id": "dawzyFTCV1qw"
      },
      "source": [
        "#Import the required libraries\n",
        "import numpy as np\n",
        "from copy import copy\n",
        "import keras\n",
        "from lstm_chem.utils.config import process_config\n",
        "from lstm_chem.model import LSTMChem\n",
        "from lstm_chem.generator import LSTMChemGenerator\n",
        "from lstm_chem.trainer import LSTMChemTrainer\n",
        "from lstm_chem.data_loader import DataLoader"
      ],
      "execution_count": null,
      "outputs": []
    },
    {
      "cell_type": "code",
      "metadata": {
        "id": "e3PaWR8nV1qz"
      },
      "source": [
        "CONFIG_FILE = 'experiments/2019-12-23/LSTM_Chem/config.json'\n",
        "config = process_config(CONFIG_FILE)"
      ],
      "execution_count": null,
      "outputs": []
    },
    {
      "cell_type": "code",
      "metadata": {
        "id": "5gBnMigvV1q1"
      },
      "source": [
        "modeler = LSTMChem(config, session='train')"
      ],
      "execution_count": null,
      "outputs": []
    },
    {
      "cell_type": "code",
      "metadata": {
        "id": "tFmilUHMV1q2"
      },
      "source": [
        "train_dl = DataLoader(config, data_type='train')"
      ],
      "execution_count": null,
      "outputs": []
    },
    {
      "cell_type": "code",
      "metadata": {
        "scrolled": false,
        "id": "b98Xr9ClV1q4"
      },
      "source": [
        "valid_dl = copy(train_dl)\n",
        "valid_dl.data_type = 'valid'"
      ],
      "execution_count": null,
      "outputs": []
    },
    {
      "cell_type": "code",
      "metadata": {
        "scrolled": true,
        "id": "ULjQSlTNV1q8"
      },
      "source": [
        "trainer = LSTMChemTrainer(modeler, train_dl, valid_dl)"
      ],
      "execution_count": null,
      "outputs": []
    },
    {
      "cell_type": "code",
      "metadata": {
        "id": "TjklMl8-V1q-"
      },
      "source": [
        "trainer.train()"
      ],
      "execution_count": null,
      "outputs": []
    },
    {
      "cell_type": "code",
      "metadata": {
        "id": "U_f3zhUEV1rA"
      },
      "source": [
        "# Save the trained model\n",
        "trainer.model.save_weights('experiments/2019-12-23/LSTM_Chem/checkpoints/LSTM_Chem-baseline-model-full.hdf5.hdf5')"
      ],
      "execution_count": null,
      "outputs": []
    },
    {
      "cell_type": "markdown",
      "metadata": {
        "id": "FXboOscDV1rE"
      },
      "source": [
        "## Load the model and GENERATE new molecules (SMILES)"
      ]
    },
    {
      "cell_type": "code",
      "metadata": {
        "id": "5ydSURLCV1rE"
      },
      "source": [
        "config['model_weight_filename'] = 'experiments/2019-12-23/LSTM_Chem/checkpoints/LSTM_Chem-baseline-model-full.hdf5'\n",
        "print(config)"
      ],
      "execution_count": null,
      "outputs": []
    },
    {
      "cell_type": "code",
      "metadata": {
        "scrolled": false,
        "id": "bUk1Z29IV1rG"
      },
      "source": [
        "modeler = LSTMChem(config, session='generate')\n",
        "generator = LSTMChemGenerator(modeler)\n",
        "print(config)"
      ],
      "execution_count": null,
      "outputs": []
    },
    {
      "cell_type": "code",
      "metadata": {
        "id": "shzzrITmV1rG"
      },
      "source": [
        "sample_number = 25000\n",
        "sampled_smiles = generator.sample(num=sample_number)"
      ],
      "execution_count": null,
      "outputs": []
    },
    {
      "cell_type": "code",
      "metadata": {
        "id": "46KOuoY7V1rH"
      },
      "source": [
        "from rdkit import RDLogger, Chem, DataStructs\n",
        "from rdkit.Chem import AllChem, Draw, Descriptors\n",
        "from rdkit.Chem.Draw import IPythonConsole\n",
        "RDLogger.DisableLog('rdApp.*')"
      ],
      "execution_count": null,
      "outputs": []
    },
    {
      "cell_type": "code",
      "metadata": {
        "id": "GCuPVzCUV1rU"
      },
      "source": [
        "valid_mols = []\n",
        "for smi in sampled_smiles:\n",
        "    mol = Chem.MolFromSmiles(smi)\n",
        "    if mol is not None:\n",
        "        valid_mols.append(mol)\n",
        "# low validity\n",
        "print('Validity: ', f'{len(valid_mols) / sample_number:.2%}')\n",
        "\n",
        "valid_smiles = [Chem.MolToSmiles(mol) for mol in valid_mols]\n",
        "# high uniqueness\n",
        "print('Uniqueness: ', f'{len(set(valid_smiles)) / len(valid_smiles):.2%}')\n",
        "\n",
        "# Of valid smiles generated, how many are truly original vs ocurring in the training data\n",
        "import pandas as pd\n",
        "training_data = pd.read_csv('./datasets/all_smiles_clean.smi', header=None)\n",
        "training_set = set(list(training_data[0]))\n",
        "original = []\n",
        "for smile in valid_smiles:\n",
        "    if not smile in training_set:\n",
        "        original.append(smile)\n",
        "print('Originality: ', f'{len(set(original)) / len(set(valid_smiles)):.2%}')"
      ],
      "execution_count": null,
      "outputs": []
    },
    {
      "cell_type": "code",
      "metadata": {
        "id": "u7e20nbCV1rV"
      },
      "source": [
        "with open('./generations/gen0.smi', 'w') as f:\n",
        "    for item in valid_smiles:\n",
        "        f.write(\"%s\\n\" % item)"
      ],
      "execution_count": null,
      "outputs": []
    }
  ]
}