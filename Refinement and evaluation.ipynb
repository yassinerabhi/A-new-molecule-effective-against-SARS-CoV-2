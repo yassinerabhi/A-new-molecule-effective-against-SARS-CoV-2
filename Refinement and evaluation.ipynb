{
  "nbformat": 4,
  "nbformat_minor": 0,
  "metadata": {
    "kernelspec": {
      "display_name": "Python 3",
      "language": "python",
      "name": "python3"
    },
    "language_info": {
      "codemirror_mode": {
        "name": "ipython",
        "version": 3
      },
      "file_extension": ".py",
      "mimetype": "text/x-python",
      "name": "python",
      "nbconvert_exporter": "python",
      "pygments_lexer": "ipython3",
      "version": "3.6.10"
    },
    "colab": {
      "name": "Evaluation and Refinement.ipynb",
      "provenance": []
    }
  },
  "cells": [
    {
      "cell_type": "markdown",
      "metadata": {
        "id": "xgmMbk1Le56a"
      },
      "source": [
        "# Description\n",
        "\n",
        "This script is used to analyze and evaluate the initial universe of generated SMILES, and then to maintain the model by applying techniques and principles from transfer learning and active learning algorithms to increasingly improve the generation of molecules for the specific task of SARS-COV2 protease binding."
      ]
    },
    {
      "cell_type": "markdown",
      "metadata": {
        "id": "UVOfqP5de562"
      },
      "source": [
        "## Initial processing of the generated SMILES for analysis with PyRx."
      ]
    },
    {
      "cell_type": "code",
      "metadata": {
        "id": "pKiKZCqXe565"
      },
      "source": [
        "import pandas as pd\n",
        "from rdkit import Chem, DataStructs\n",
        "import random\n",
        "import numpy as np\n",
        "import rdkit.Chem.PropertyMol"
      ],
      "execution_count": null,
      "outputs": []
    },
    {
      "cell_type": "code",
      "metadata": {
        "scrolled": true,
        "id": "yJNkGmSOe56_"
      },
      "source": [
        "gen0_table = pd.read_csv('./generations/gen0_smiles.smi',sep=',', header=None)\n",
        "gen0 = list(gen0_table[0])[0:25000]\n",
        "len(gen0)"
      ],
      "execution_count": null,
      "outputs": []
    },
    {
      "cell_type": "code",
      "metadata": {
        "id": "6-lZIZsCe57F"
      },
      "source": [
        "def validate_mols(list_of_smiles):\n",
        "    valid_mols = []\n",
        "    for smi in list_of_smiles:\n",
        "        mol = Chem.MolFromSmiles(smi)\n",
        "        if mol is not None:\n",
        "            valid_mols.append(mol)\n",
        "    return valid_mols\n",
        "\n",
        "def convert_mols_to_smiles(list_of_mols):\n",
        "    valid_smiles = [Chem.MolToSmiles(mol) for mol in list_of_mols]\n",
        "    return valid_smiles"
      ],
      "execution_count": null,
      "outputs": []
    },
    {
      "cell_type": "code",
      "metadata": {
        "id": "0k08W4Yye57H"
      },
      "source": [
        "gen0_mols = validate_mols(gen0)\n",
        "len(gen0_mols)"
      ],
      "execution_count": null,
      "outputs": []
    },
    {
      "cell_type": "code",
      "metadata": {
        "id": "QFEUuHBKe57K"
      },
      "source": [
        "'''Takes a list of SMILES, shuffles them randomly, then adds the first fifty, then sets a threshold\n",
        " for maximum similarity between any new molecule and the existing list and iteratively increases\n",
        "  the threshold until 0.05 components are chosen to ensure divergence.'''\n",
        "\n",
        "def initialize_generation_from_mols(list_of_mols,desired_length):  \n",
        "    assert desired_length >50\n",
        "    random.shuffle(list_of_mols)\n",
        "    random.shuffle(list_of_mols)\n",
        "    \n",
        "    # Similarity computations\n",
        "    mol_fingerprints = []\n",
        "    for mol in list_of_mols:\n",
        "        mol_fingerprints.append(Chem.RDKFingerprint(mol))\n",
        "    \n",
        "    selected_mols = list_of_mols[0:50]\n",
        "    selected_fingerprints = mol_fingerprints[0:50]\n",
        "    remaining_mols = list_of_mols[50:]\n",
        "    remaining_fingerprints = mol_fingerprints[50:]\n",
        "    \n",
        "    similarity_threshold = .05   \n",
        "    while len(selected_mols) < desired_length:\n",
        "        for fingerprint, mol in zip(remaining_fingerprints, remaining_mols):\n",
        "            max_similarity = np.max(DataStructs.BulkTanimotoSimilarity(fingerprint,selected_fingerprints))\n",
        "            if (max_similarity <= similarity_threshold) and (max_similarity < 1):\n",
        "                selected_fingerprints.append(fingerprint)\n",
        "                selected_mols.append(mol)\n",
        "        print(\"Completed loop with threshold at: \", similarity_threshold, \". Length is currently: \", len(selected_mols))\n",
        "        similarity_threshold += .05\n",
        "    return selected_mols"
      ],
      "execution_count": null,
      "outputs": []
    },
    {
      "cell_type": "code",
      "metadata": {
        "id": "TT02wORJe57T"
      },
      "source": [
        "gen0_mols = initialize_generation_from_mols(gen0_mols,1000)\n",
        "print(len(gen0_mols))"
      ],
      "execution_count": null,
      "outputs": []
    },
    {
      "cell_type": "code",
      "metadata": {
        "id": "cdKGGeKie57V"
      },
      "source": [
        "master_table = pd.read_csv('./generations/master_results_table.csv',sep=',')\n",
        "master_table.shape[0]"
      ],
      "execution_count": null,
      "outputs": []
    },
    {
      "cell_type": "code",
      "metadata": {
        "id": "PrpdxNyEe57Z"
      },
      "source": [
        "'''We order the SMILES by a four letter code. This function iterates the four letter code.'''\n",
        "def iterate_alpha(alpha_code):\n",
        "    numbers = []\n",
        "    for letter in alpha_code:\n",
        "        number = ord(letter)\n",
        "        numbers.append(number)\n",
        "    \n",
        "    if numbers[3]+1 > 90:\n",
        "        if numbers[2]+1 > 90:\n",
        "            if numbers[1]+1 > 90:\n",
        "                if numbers[0]+1 > 90:\n",
        "                    raise ValueError('Too long for alpha code')\n",
        "                else:\n",
        "                    numbers[3] = 65\n",
        "                    numbers[2] = 65\n",
        "                    numbers[1] = 65\n",
        "                    numbers[0] = numbers[0] + 1\n",
        "            else:\n",
        "                numbers[3] = 65\n",
        "                numbers[2] = 65\n",
        "                numbers[1] = numbers[1] + 1\n",
        "        else:\n",
        "            numbers[3] = 65\n",
        "            numbers[2] = numbers[2] + 1\n",
        "    else:\n",
        "        numbers[3] = numbers[3] + 1\n",
        "    \n",
        "\n",
        "    new_code = \"\"\n",
        "    for number in numbers:\n",
        "        new_code += chr(number)\n",
        "    return new_code\n",
        "iterate_alpha('AAAA')"
      ],
      "execution_count": null,
      "outputs": []
    },
    {
      "cell_type": "code",
      "metadata": {
        "id": "etFHf3rbe57b"
      },
      "source": [
        "def append_to_tracking_table(master_table,mols_to_append, source, generation):\n",
        "    # Assign tracking IDs to each SMILE, and assign a pandas table entry for each one.\n",
        "    mols_to_export = []\n",
        "    rows_list = []\n",
        "    \n",
        "    master_table_gen = master_table[master_table['gen'] == generation]\n",
        "    if master_table_gen.shape[0] == 0:\n",
        "        id_code = 'AAAA'\n",
        "    else:\n",
        "        master_table_gen_ids = master_table_gen.sort_values('id', ascending=True)\n",
        "        master_table_gen_max_id = master_table_gen_ids.tail(1)\n",
        "        key = master_table_gen_max_id['id'].keys()[0]\n",
        "        id_code = iterate_alpha(str(master_table_gen_max_id['id'][key]))\n",
        "        \n",
        "    training_data = pd.read_csv('./datasets/all_smiles_clean.smi', header=None)\n",
        "    training_set = set(list(training_data[0]))\n",
        "    \n",
        "    for mol in mols_to_append:\n",
        "        pm = Chem.PropertyMol.PropertyMol(mol)\n",
        "        title = 'id' + str(id_code) + 'gen'+ str(generation)\n",
        "        print(title)\n",
        "        # Enables for tracking which molecule is which in PyRx GUI and PyRx results export\n",
        "        pm.SetProp('Title', title)\n",
        "        mols_to_export.append(pm)\n",
        "\n",
        "        #And track in pandas\n",
        "        mol_dict = {}\n",
        "        mol_dict['id'] = id_code\n",
        "        mol_dict['gen'] = generation\n",
        "        smile = Chem.MolToSmiles(mol)\n",
        "        assert type(smile) == type('string')\n",
        "        mol_dict['smile'] = smile\n",
        "\n",
        "        if (source!= 'hiv' and source != 'manual' and source != 'baseline') and (smile in training_set):\n",
        "            mol_dict['source'] = 'training'\n",
        "        else:\n",
        "            mol_dict['source'] = source\n",
        "        mol_dict['score'] = 99.9\n",
        "\n",
        "        rows_list.append(mol_dict)\n",
        "        id_code = iterate_alpha(id_code)\n",
        "        \n",
        "    df = pd.DataFrame(rows_list)\n",
        "    return df, mols_to_export"
      ],
      "execution_count": null,
      "outputs": []
    },
    {
      "cell_type": "code",
      "metadata": {
        "id": "GoIVvEUfe58g"
      },
      "source": [
        "new_mols_to_test = append_to_tracking_table(master_table,gen0_mols, 'generated', 0)\n",
        "mols_for_pd = new_mols_to_test[0]\n",
        "mols_for_export = new_mols_to_test[1]\n",
        "master_table = master_table.append(mols_for_pd)\n",
        "len(mols_for_export)"
      ],
      "execution_count": null,
      "outputs": []
    },
    {
      "cell_type": "code",
      "metadata": {
        "id": "PkCn3u-7e58j"
      },
      "source": [
        "master_table = master_table.reset_index(drop=True)\n",
        "master_table.to_csv(r'./generations/master_results_table.csv', index=False)"
      ],
      "execution_count": null,
      "outputs": []
    },
    {
      "cell_type": "code",
      "metadata": {
        "id": "aWK2otZhe58o"
      },
      "source": [
        "# Add HIV inhibitors manually into the table\n",
        "hiv_smiles = pd.read_csv('./datasets/hiv_inhibitors_cleaned.smi',sep=',', header=None)\n",
        "hiv_smiles = list(hiv_smiles[0])\n",
        "hiv_mols = validate_mols(hiv_smiles)\n",
        "\n",
        "master_table = pd.read_csv('./generations/master_results_table.csv',sep=',')\n",
        "new_mols_to_test = append_to_tracking_table(master_table,hiv_mols, 'hiv', 0)\n",
        "mols_for_pd = new_mols_to_test[0]\n",
        "mols_for_export = mols_for_export + new_mols_to_test[1]\n",
        "\n",
        "master_table = master_table.append(mols_for_pd)\n",
        "master_table = master_table.reset_index(drop=True)\n",
        "master_table.to_csv(r'./generations/master_results_table.csv', index=False)"
      ],
      "execution_count": null,
      "outputs": []
    },
    {
      "cell_type": "code",
      "metadata": {
        "id": "88YH4T04e58q"
      },
      "source": [
        "# Add manually some other SMILES in the table \n",
        "manual_smiles = pd.read_csv('./datasets/manual_testing_cleaned.smi',sep=',', header=None)\n",
        "manual_smiles = list(manual_smiles[0])\n",
        "manual_mols = validate_mols(hiv_smiles)\n",
        "\n",
        "master_table = pd.read_csv('./generations/master_results_table.csv',sep=',')\n",
        "new_mols_to_test = append_to_tracking_table(master_table,manual_mols, 'manual', 0)\n",
        "mols_for_pd = new_mols_to_test[0]\n",
        "mols_for_export = mols_for_export + new_mols_to_test[1]\n",
        "\n",
        "master_table = master_table.append(mols_for_pd)\n",
        "master_table = master_table.reset_index(drop=True)\n",
        "master_table.to_csv(r'./generations/master_results_table.csv', index=False)"
      ],
      "execution_count": null,
      "outputs": []
    },
    {
      "cell_type": "code",
      "metadata": {
        "id": "a6nO_Xo_e58s"
      },
      "source": [
        "def write_gen_to_sdf(mols_for_export, generation, batch_size):\n",
        "    if len(mols_for_export) > batch_size:\n",
        "        batches = (len(mols_for_export) // 1000)+1\n",
        "        for i in range(0,batches):\n",
        "            batch_to_export = mols_for_export[i*batch_size:(i+1)*batch_size]\n",
        "            w = Chem.SDWriter('./generations/gen' +str(generation) + '_batch_' + str(i+1) + '.sdf')\n",
        "            for m in batch_to_export: w.write(m)\n",
        "    else:\n",
        "        w = Chem.SDWriter('./generations/gen' +str(generation) + '.sdf')\n",
        "        for m in mols_for_export:\n",
        "            w.write(m)\n",
        "    \n",
        "    # Noticed an issue where the very last line item of an sdf write is not written correctly until another arbitary write is made\n",
        "    w = Chem.SDWriter('./generations/junk/test.sdf')\n",
        "    w.write(m)\n",
        "    \n",
        "    return mols_for_export"
      ],
      "execution_count": null,
      "outputs": []
    },
    {
      "cell_type": "code",
      "metadata": {
        "scrolled": true,
        "id": "kUkYq6YAe58t"
      },
      "source": [
        "write_gen_to_sdf(mols_for_export, 0, 2000)\n",
        "print('ok')"
      ],
      "execution_count": null,
      "outputs": []
    },
    {
      "cell_type": "markdown",
      "metadata": {
        "id": "PRlosZMWe58u"
      },
      "source": [
        "## Now go to PyRx: Parse the SDF file and create a csv of the link score results."
      ]
    },
    {
      "cell_type": "markdown",
      "metadata": {
        "id": "Wb2fhp8ne58w"
      },
      "source": [
        "\n",
        "## Then, process the results of the constrained simulation to evolve the SMILES system."
      ]
    },
    {
      "cell_type": "code",
      "metadata": {
        "id": "xWA2vb9Je58y"
      },
      "source": [
        "GLOBAL_GENERATION = 11"
      ],
      "execution_count": null,
      "outputs": []
    },
    {
      "cell_type": "code",
      "metadata": {
        "id": "rEj5qMBFe580"
      },
      "source": [
        "master_table = pd.read_csv('./generations/master_results_table_gen' + str(GLOBAL_GENERATION-1) + '.csv',sep=',')\n",
        "master_table.tail()"
      ],
      "execution_count": null,
      "outputs": []
    },
    {
      "cell_type": "code",
      "metadata": {
        "id": "EF_8Bh7oe582"
      },
      "source": [
        "new_scores = pd.read_csv('./generations/results/results_gen' + str(GLOBAL_GENERATION-1) + '.csv',sep=',')\n",
        "new_scores.head()"
      ],
      "execution_count": null,
      "outputs": []
    },
    {
      "cell_type": "code",
      "metadata": {
        "id": "K6P8qpiue583"
      },
      "source": [
        "new_scores = new_scores.groupby(\"Ligand\").min()[\"Binding Affinity\"].reset_index()\n",
        "new_scores['id'] = new_scores['Ligand'].str.split(\"_\").str[1].str.split(\"gen\").str[0].str.split(\"id\").str[1]\n",
        "new_scores['gen'] = new_scores['Ligand'].str.split(\"_\").str[1].str.split(\"gen\").str[1]\n",
        "new_scores['score'] = new_scores[\"Binding Affinity\"]\n",
        "new_scores = new_scores[['id','gen','score']]\n",
        "new_scores.head()"
      ],
      "execution_count": null,
      "outputs": []
    },
    {
      "cell_type": "code",
      "metadata": {
        "id": "H0EhpXwPe584"
      },
      "source": [
        "new_scores.id = new_scores.id.astype(str)\n",
        "new_scores.gen = new_scores.gen.astype(int)\n",
        "master_table.id = master_table.id.astype(str)\n",
        "master_table.gen = master_table.gen.astype(int)\n",
        "new_table = pd.merge(master_table, new_scores, on=['id','gen'], suffixes=('_old','_new'), how='left')\n",
        "new_table['score'] = np.where(new_table['score_new'].isnull(), new_table['score_old'], new_table['score_new'])\n",
        "new_table = new_table.drop(['score_old','score_new'], axis=1)\n",
        "new_table['weight'] = new_table['smile'].apply(lambda x: Chem.Descriptors.MolWt(Chem.MolFromSmiles(x)))\n",
        "new_table = new_table.sort_values('score', ascending=True)\n",
        "new_table.head()"
      ],
      "execution_count": null,
      "outputs": []
    },
    {
      "cell_type": "code",
      "metadata": {
        "id": "tXwQvaaze585"
      },
      "source": [
        "new_table.to_csv(r'./generations/master_results_table_gen' + str(GLOBAL_GENERATION-1) + '.csv', index=False)"
      ],
      "execution_count": null,
      "outputs": []
    },
    {
      "cell_type": "code",
      "metadata": {
        "id": "wHZnow7qe587"
      },
      "source": [
        "# Select top 50 ranked by score for training data to refine the molecule generator RNN\n",
        "training_smiles = list(set(list(new_table.head(50)['smile'])))\n",
        "len(training_smiles)"
      ],
      "execution_count": null,
      "outputs": []
    },
    {
      "cell_type": "code",
      "metadata": {
        "id": "jCCJLkiSe588"
      },
      "source": [
        "training_fingerprints = []\n",
        "for smile in training_smiles:\n",
        "    training_fingerprints.append(Chem.RDKFingerprint(Chem.MolFromSmiles(smile)))\n",
        "\n",
        "def calc_similarity_score(row):\n",
        "    fingerprint = Chem.RDKFingerprint(Chem.MolFromSmiles(row['smile']))\n",
        "    similarity = np.max(DataStructs.BulkTanimotoSimilarity(fingerprint,training_fingerprints))\n",
        "    adj_factor = (1 / similarity) **.333\n",
        "    adj_score = row['score'] * adj_factor\n",
        "    return adj_score\n",
        "\n",
        "similarity_adjusted = new_table.copy(deep=True)\n",
        "similarity_adjusted = similarity_adjusted[similarity_adjusted['weight'] < 900]\n",
        "similarity_adjusted['similarity_adj_score'] = similarity_adjusted.apply(calc_similarity_score, axis=1)\n",
        "similarity_adjusted = similarity_adjusted.sort_values('similarity_adj_score', ascending=True)\n",
        "similarity_adjusted.head()"
      ],
      "execution_count": null,
      "outputs": []
    },
    {
      "cell_type": "code",
      "metadata": {
        "id": "NTDvWs2Le589"
      },
      "source": [
        "# Select top 10 ranked by similarity adjusted score for training data to refine the molecule generator RNN (ensures diverity)\n",
        "training_smiles += list(similarity_adjusted.head(10)['smile'])\n",
        "len(training_smiles)"
      ],
      "execution_count": null,
      "outputs": []
    },
    {
      "cell_type": "code",
      "metadata": {
        "id": "IV5R8sowe58-"
      },
      "source": [
        "def calc_weight_score(row):\n",
        "    adj_factor = (900 / row['weight']) ** .333\n",
        "    if adj_factor < 1:\n",
        "        adj_score = 0\n",
        "    else:\n",
        "        adj_score = row['score'] * adj_factor\n",
        "    return adj_score\n",
        "\n",
        "weight_adjusted = new_table.copy(deep=True)\n",
        "weight_adjusted['weight_adj_score'] = weight_adjusted.apply(calc_weight_score, axis=1)\n",
        "weight_adjusted = weight_adjusted.sort_values('weight_adj_score', ascending=True)\n",
        "weight_adjusted.head()"
      ],
      "execution_count": null,
      "outputs": []
    },
    {
      "cell_type": "code",
      "metadata": {
        "id": "khY90wq3e58_"
      },
      "source": [
        "# Select top 10 ranked by similarity adjusted score for training data to refine the molecule generator RNN (ensures diverity)\n",
        "training_smiles += list(weight_adjusted.head(10)['smile'])\n",
        "len(training_smiles)"
      ],
      "execution_count": null,
      "outputs": []
    },
    {
      "cell_type": "code",
      "metadata": {
        "id": "CGrzyyg0e59C"
      },
      "source": [
        "import tensorflow\n",
        "tensorflow.test.is_gpu_available()"
      ],
      "execution_count": null,
      "outputs": []
    },
    {
      "cell_type": "code",
      "metadata": {
        "id": "GOETUQj1e59D"
      },
      "source": [
        "import numpy as np\n",
        "from copy import copy\n",
        "\n",
        "import keras\n",
        "\n",
        "from lstm_chem.utils.config import process_config\n",
        "from lstm_chem.model import LSTMChem\n",
        "from lstm_chem.generator import LSTMChemGenerator\n",
        "from lstm_chem.trainer import LSTMChemTrainer\n",
        "from lstm_chem.data_loader import DataLoader"
      ],
      "execution_count": null,
      "outputs": []
    },
    {
      "cell_type": "code",
      "metadata": {
        "id": "pnaQQG3Ce59G"
      },
      "source": [
        "# Generate some with the original model base\n",
        "CONFIG_FILE = 'experiments/2019-12-23/LSTM_Chem/config.json'\n",
        "config = process_config(CONFIG_FILE)\n",
        "modeler = LSTMChem(config, session='generate')\n",
        "generator = LSTMChemGenerator(modeler)"
      ],
      "execution_count": null,
      "outputs": []
    },
    {
      "cell_type": "code",
      "metadata": {
        "id": "LDUCPsZ1e59H"
      },
      "source": [
        "sample_number = 20"
      ],
      "execution_count": null,
      "outputs": []
    },
    {
      "cell_type": "code",
      "metadata": {
        "id": "nCcd7DyLe59J"
      },
      "source": [
        "base_generated = generator.sample(num=sample_number)"
      ],
      "execution_count": null,
      "outputs": []
    },
    {
      "cell_type": "code",
      "metadata": {
        "id": "jw_Jv241e59K"
      },
      "source": [
        "base_generated_mols = validate_mols(base_generated)\n",
        "base_generated_smiles = convert_mols_to_smiles(base_generated_mols)\n",
        "random.shuffle(base_generated_smiles)\n",
        "random.shuffle(base_generated_smiles)\n",
        "# Select 10 for training data to refine the molecule generator RNN (ensures diverity)\n",
        "training_smiles += base_generated_smiles[0:10]\n",
        "len(training_smiles)"
      ],
      "execution_count": null,
      "outputs": []
    },
    {
      "cell_type": "code",
      "metadata": {
        "id": "hod9SUuBe59L"
      },
      "source": [
        "master_table = pd.read_csv('./generations/master_results_table_gen' + str(GLOBAL_GENERATION-1) + '.csv',sep=',')\n",
        "master_table.head()"
      ],
      "execution_count": null,
      "outputs": []
    },
    {
      "cell_type": "code",
      "metadata": {
        "id": "nS8yGPC3e59M"
      },
      "source": [
        "# Save the list of smiles to train on\n",
        "with open('./generations/training/gen' + str(GLOBAL_GENERATION) + '_training.smi', 'w') as f:\n",
        "    for item in training_smiles:\n",
        "        f.write(\"%s\\n\" % item)"
      ],
      "execution_count": null,
      "outputs": []
    },
    {
      "cell_type": "markdown",
      "metadata": {
        "id": "BkaBD4l8e59P"
      },
      "source": [
        "\n",
        "## Retrain the model to create SMILES that look more like the ones selected above."
      ]
    },
    {
      "cell_type": "code",
      "metadata": {
        "id": "_XEJZjzEe59Q"
      },
      "source": [
        "from lstm_chem.finetuner import LSTMChemFinetuner"
      ],
      "execution_count": null,
      "outputs": []
    },
    {
      "cell_type": "code",
      "metadata": {
        "id": "avXiS9MEe59R"
      },
      "source": [
        "config = process_config('experiments/2019-12-23/LSTM_Chem/config.json')\n",
        "config['model_weight_filename'] = 'experiments/2019-12-23/LSTM_Chem/checkpoints/finetuned_gen' + str(GLOBAL_GENERATION-1) + '.hdf5'\n",
        "config['finetune_data_filename'] = './generations/training/gen' + str(GLOBAL_GENERATION) + '_training.smi'\n",
        "print(config)"
      ],
      "execution_count": null,
      "outputs": []
    },
    {
      "cell_type": "code",
      "metadata": {
        "id": "wNmrFshqe59U"
      },
      "source": [
        "modeler = LSTMChem(config, session='finetune')\n",
        "finetune_dl = DataLoader(config, data_type='finetune')\n",
        "\n",
        "finetuner = LSTMChemFinetuner(modeler, finetune_dl)\n",
        "finetuner.finetune()"
      ],
      "execution_count": null,
      "outputs": []
    },
    {
      "cell_type": "code",
      "metadata": {
        "id": "tQ6uBbI8e59V"
      },
      "source": [
        "finetuner.model.save_weights('experiments/2019-12-23/LSTM_Chem/checkpoints/finetuned_gen' + str(GLOBAL_GENERATION) + '.hdf5')"
      ],
      "execution_count": null,
      "outputs": []
    },
    {
      "cell_type": "code",
      "metadata": {
        "id": "hYGkRaMpe59W"
      },
      "source": [
        "config['model_weight_filename'] = 'experiments/2019-12-23/LSTM_Chem/checkpoints/finetuned_gen' + str(GLOBAL_GENERATION) + '.hdf5'\n",
        "modeler = LSTMChem(config, session='generate')\n",
        "generator = LSTMChemGenerator(modeler)\n",
        "print(config)"
      ],
      "execution_count": null,
      "outputs": []
    },
    {
      "cell_type": "code",
      "metadata": {
        "scrolled": true,
        "id": "eWJpBVYne59Z"
      },
      "source": [
        "sample_number = 5000\n",
        "sampled_smiles = generator.sample(num=sample_number)"
      ],
      "execution_count": null,
      "outputs": []
    },
    {
      "cell_type": "code",
      "metadata": {
        "id": "uDwEG28Re59q"
      },
      "source": [
        "valid_mols = []\n",
        "for smi in sampled_smiles:\n",
        "    mol = Chem.MolFromSmiles(smi)\n",
        "    if mol is not None:\n",
        "        valid_mols.append(mol)\n",
        "# Validity\n",
        "print('Validity: ', f'{len(valid_mols) / sample_number:.2%}')\n",
        "\n",
        "valid_smiles = [Chem.MolToSmiles(mol) for mol in valid_mols]\n",
        "# Uniqueness\n",
        "print('Uniqueness: ', f'{len(set(valid_smiles)) / len(valid_smiles):.2%}')\n",
        "\n",
        "# Originality\n",
        "import pandas as pd\n",
        "training_data = pd.read_csv('./datasets/all_smiles_clean.smi', header=None)\n",
        "training_set = set(list(training_data[0]))\n",
        "original = []\n",
        "for smile in list(set(valid_smiles)):\n",
        "    if not smile in training_set:\n",
        "        original.append(smile)\n",
        "print('Originality: ', f'{len(set(original)) / len(set(valid_smiles)):.2%}')"
      ],
      "execution_count": null,
      "outputs": []
    },
    {
      "cell_type": "code",
      "metadata": {
        "id": "hyMVWxD3e59r"
      },
      "source": [
        "valid_smiles = list(set(valid_smiles))\n",
        "len(valid_smiles)"
      ],
      "execution_count": null,
      "outputs": []
    },
    {
      "cell_type": "code",
      "metadata": {
        "id": "7fQ6wBOXe59s"
      },
      "source": [
        "# Take the valid SMILES above and run them in the process to add them to the tracking table and to generate the next PyRx test data.\n",
        "mols_for_next_generation = validate_mols(valid_smiles)\n",
        "\n",
        "master_table = pd.read_csv('./generations/master_results_table_gen' + str(GLOBAL_GENERATION-1) +'.csv',sep=',')\n",
        "new_mols_to_test = append_to_tracking_table(master_table,mols_for_next_generation, 'generated', GLOBAL_GENERATION)\n",
        "mols_for_pd = new_mols_to_test[0]\n",
        "mols_for_export = new_mols_to_test[1]\n",
        "\n",
        "master_table = master_table.append(mols_for_pd)\n",
        "master_table = master_table.reset_index(drop=True)\n",
        "master_table.to_csv(r'./generations/master_results_table_gen' + str(GLOBAL_GENERATION) + '.csv', index=False)"
      ],
      "execution_count": null,
      "outputs": []
    },
    {
      "cell_type": "code",
      "metadata": {
        "id": "Q3SQG5yle59u"
      },
      "source": [
        "len(mols_for_export)"
      ],
      "execution_count": null,
      "outputs": []
    },
    {
      "cell_type": "code",
      "metadata": {
        "id": "e2V8RAgoe59u"
      },
      "source": [
        "write_gen_to_sdf(mols_for_export, GLOBAL_GENERATION, 2000)\n",
        "print('ok')"
      ],
      "execution_count": null,
      "outputs": []
    }
  ]
}