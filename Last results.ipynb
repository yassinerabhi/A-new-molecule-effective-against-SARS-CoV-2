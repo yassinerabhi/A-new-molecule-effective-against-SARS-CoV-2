{
  "nbformat": 4,
  "nbformat_minor": 0,
  "metadata": {
    "kernelspec": {
      "display_name": "Python 3",
      "language": "python",
      "name": "python3"
    },
    "language_info": {
      "codemirror_mode": {
        "name": "ipython",
        "version": 3
      },
      "file_extension": ".py",
      "mimetype": "text/x-python",
      "name": "python",
      "nbconvert_exporter": "python",
      "pygments_lexer": "ipython3",
      "version": "3.6.10"
    },
    "colab": {
      "name": "Final Results.ipynb",
      "provenance": []
    }
  },
  "cells": [
    {
      "cell_type": "markdown",
      "metadata": {
        "id": "nQMT5LMSFH6e"
      },
      "source": [
        "# Description\n",
        "\n",
        "This script is used to establish the final results and compare the new molecules generated, the HIV inhibitors and the Remdesivir that has entered clinical trials."
      ]
    },
    {
      "cell_type": "markdown",
      "metadata": {
        "id": "b_scQbR7FH6r"
      },
      "source": [
        "## Afterwards, the best results were saved in the sdf file for a final check with PyRx."
      ]
    },
    {
      "cell_type": "code",
      "metadata": {
        "id": "ckyAhakWFH6s"
      },
      "source": [
        "import pandas as pd\n",
        "from rdkit import Chem, DataStructs\n",
        "import random\n",
        "import numpy as np\n",
        "import rdkit.Chem.PropertyMol"
      ],
      "execution_count": null,
      "outputs": []
    },
    {
      "cell_type": "code",
      "metadata": {
        "id": "bYc8MdG1FH6u"
      },
      "source": [
        "final = pd.read_csv('./generations/master_results_table_gen10.csv',sep=',')\n",
        "final = final.sort_values('score', ascending=True)\n",
        "print(final.shape)\n",
        "final.head()"
      ],
      "execution_count": null,
      "outputs": []
    },
    {
      "cell_type": "code",
      "metadata": {
        "id": "ZBi3fzh4FH6v"
      },
      "source": [
        "final_max = final.groupby(\"smile\").max()[[\"score\",\"gen\"]].reset_index()\n",
        "final_max = final_max.sort_values('score', ascending=True)\n",
        "print(final_max.shape)\n",
        "final_max.head()"
      ],
      "execution_count": null,
      "outputs": []
    },
    {
      "cell_type": "code",
      "metadata": {
        "id": "CYQEZDpkFH6w"
      },
      "source": [
        "final_joined = pd.merge(final_max, final, on=['smile','gen'], suffixes=('_old','_new'), how='left')\n",
        "final_joined = final_joined[(final_joined['score_new'] <= -15.0) & (final_joined['weight'] < 900)]\n",
        "final_joined['score'] = final_joined['score_new']\n",
        "final_joined = final_joined.drop('score_old', axis=1)\n",
        "final_joined = final_joined.drop('score_new', axis=1)\n",
        "print(final_joined.shape)\n",
        "final_joined.head()"
      ],
      "execution_count": null,
      "outputs": []
    },
    {
      "cell_type": "code",
      "metadata": {
        "id": "PboSYSciFH6x"
      },
      "source": [
        "hiv = final[final['source'] == 'hiv']\n",
        "hiv.head()"
      ],
      "execution_count": null,
      "outputs": []
    },
    {
      "cell_type": "code",
      "metadata": {
        "id": "SwBLtRP4FH6y"
      },
      "source": [
        "final_table = final_joined.append(hiv)\n",
        "final_table.head()"
      ],
      "execution_count": null,
      "outputs": []
    },
    {
      "cell_type": "code",
      "metadata": {
        "id": "qxG-waZVFH6z"
      },
      "source": [
        "final_table.to_csv(r'./generations/master_results_table_final2.csv', index=False)"
      ],
      "execution_count": null,
      "outputs": []
    },
    {
      "cell_type": "code",
      "metadata": {
        "id": "1QlyE6F5FH60"
      },
      "source": [
        "final_table = pd.read_csv('./generations/master_results_table_final.csv')\n",
        "final_table.tail()"
      ],
      "execution_count": null,
      "outputs": []
    },
    {
      "cell_type": "code",
      "metadata": {
        "id": "nh4zjm7gFH61"
      },
      "source": [
        "def set_molecule(row):\n",
        "    mol = Chem.MolFromSmiles(row['smile'])\n",
        "    pm = Chem.PropertyMol.PropertyMol(mol)\n",
        "    title = 'id' + str(row['id']) + 'gen'+ str(row['gen'])\n",
        "    print(title)\n",
        "    pm.SetProp('Title', title)\n",
        "    return pm"
      ],
      "execution_count": null,
      "outputs": []
    },
    {
      "cell_type": "code",
      "metadata": {
        "id": "BhFI2tPPFH64"
      },
      "source": [
        "mols_for_export = final_table.apply(set_molecule, axis=1)\n",
        "# list(mols_for_export)"
      ],
      "execution_count": null,
      "outputs": []
    },
    {
      "cell_type": "code",
      "metadata": {
        "id": "e4QK-cuwFH65"
      },
      "source": [
        "w = Chem.SDWriter('./generations/genfinal.sdf')\n",
        "for m in mols_for_export:\n",
        "    w.write(m)"
      ],
      "execution_count": null,
      "outputs": []
    },
    {
      "cell_type": "markdown",
      "metadata": {
        "id": "DB9SPG47FH66"
      },
      "source": [
        "## Re-run the whole thing through PyRx once more for double-checking, then edit the final measurements."
      ]
    },
    {
      "cell_type": "code",
      "metadata": {
        "id": "nQGVMZM6FH66"
      },
      "source": [
        "new_scores = pd.read_csv('./generations/results/results_genfinal.csv',sep=',')\n",
        "new_scores.head()"
      ],
      "execution_count": null,
      "outputs": []
    },
    {
      "cell_type": "code",
      "metadata": {
        "id": "BRKmEb0XFH66"
      },
      "source": [
        "new_scores = new_scores.groupby(\"Ligand\").agg({'Binding Affinity': [np.min,np.average]}).reset_index()\n",
        "new_scores.head()"
      ],
      "execution_count": null,
      "outputs": []
    },
    {
      "cell_type": "code",
      "metadata": {
        "id": "xyBexm1cFH66"
      },
      "source": [
        "new_scores['id'] = new_scores['Ligand'].str.split(\"_\").str[1].str.split(\"gen\").str[0].str.split(\"id\").str[1]\n",
        "new_scores['gen'] = new_scores['Ligand'].str.split(\"_\").str[1].str.split(\"gen\").str[1]\n",
        "new_scores['score_best'] = new_scores[\"Binding Affinity\"][\"amin\"]\n",
        "new_scores['score_avg'] = new_scores[\"Binding Affinity\"][\"average\"]\n",
        "new_scores = new_scores[['id','gen','score_best','score_avg']]\n",
        "new_scores.head()"
      ],
      "execution_count": null,
      "outputs": []
    },
    {
      "cell_type": "code",
      "metadata": {
        "id": "xdRPf5-rFH68"
      },
      "source": [
        "new_scores.id = new_scores.id.astype(str)\n",
        "new_scores.gen = new_scores.gen.astype(str)\n",
        "final_table.id = final_table.id.astype(str)\n",
        "final_table.gen = final_table.gen.astype(str)"
      ],
      "execution_count": null,
      "outputs": []
    },
    {
      "cell_type": "code",
      "metadata": {
        "id": "Tp9xi7tNFH68"
      },
      "source": [
        "new_table = pd.merge(final_table, new_scores, on=['id','gen'], suffixes=('_old','_new'), how='left')\n",
        "new_table['score_best'] = new_table[('score_best', '')]\n",
        "new_table['score_avg'] = new_table[('score_avg', '')]\n",
        "new_table = new_table.drop([('score_best', ''),('score_avg', '')], axis=1)\n",
        "new_table = new_table.sort_values('score_best', ascending=True)\n",
        "new_table.tail()"
      ],
      "execution_count": null,
      "outputs": []
    },
    {
      "cell_type": "code",
      "metadata": {
        "id": "JC1kP3aKFH69"
      },
      "source": [
        "new_table.columns"
      ],
      "execution_count": null,
      "outputs": []
    },
    {
      "cell_type": "code",
      "metadata": {
        "id": "C-o-8sNrFH69"
      },
      "source": [
        "hiv_smiles = new_table[(new_table['source'] == 'hiv') & (new_table['score_best'].notnull())]\n",
        "hiv_smiles_list = list(hiv_smiles['smile'])\n",
        "hiv_smiles.head(20)"
      ],
      "execution_count": null,
      "outputs": []
    },
    {
      "cell_type": "code",
      "metadata": {
        "id": "UTMJwHvIFH6-"
      },
      "source": [
        "hiv_fingerprints = []\n",
        "for smile in hiv_smiles_list:\n",
        "    hiv_fingerprints.append(Chem.RDKFingerprint(Chem.MolFromSmiles(smile)))\n",
        "\n",
        "def calc_hiv_similarity_score(row):\n",
        "    fingerprint = Chem.RDKFingerprint(Chem.MolFromSmiles(row['smile']))\n",
        "    similarity = np.mean(DataStructs.BulkTanimotoSimilarity(fingerprint,hiv_fingerprints))\n",
        "    return similarity\n",
        "\n",
        "remdesivir_fingerprint = Chem.RDKFingerprint(Chem.MolFromSmiles('CCC(CC)COC(=O)[C@H](C)NP(=O)(OC[C@H]1O[C@](C#N)([C@H](O)[C@@H]1O)C1=CC=C2N1N=CN=C2N)OC1=CC=CC=C1'))\n",
        "\n",
        "new_table['similarity_to_hiv_inhibitors'] = new_table.apply(calc_hiv_similarity_score, axis=1)\n",
        "new_table['similarity_to_remdesivir'] = new_table['smile'].apply(lambda x: DataStructs.TanimotoSimilarity(Chem.RDKFingerprint(Chem.MolFromSmiles(x)),remdesivir_fingerprint))\n",
        "new_table.head(50)"
      ],
      "execution_count": null,
      "outputs": []
    },
    {
      "cell_type": "code",
      "metadata": {
        "id": "En8hLvDUFH6_"
      },
      "source": [
        "new_table.to_csv(r'./generations/master_results_table_final.csv', index=False)"
      ],
      "execution_count": null,
      "outputs": []
    },
    {
      "cell_type": "code",
      "metadata": {
        "id": "ETdLNXkkFH6_"
      },
      "source": [
        ""
      ],
      "execution_count": null,
      "outputs": []
    }
  ]
}